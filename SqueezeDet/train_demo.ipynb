{
 "cells": [
  {
   "cell_type": "markdown",
   "id": "0de7c7ab",
   "metadata": {},
   "source": [
    "# Step 1: import 必要套件"
   ]
  },
  {
   "cell_type": "code",
   "execution_count": 1,
   "id": "1dc902d8",
   "metadata": {},
   "outputs": [],
   "source": [
    "from main.model.squeezeDet import SqueezeDet\n",
    "from main.model.dataGenerator import generator_from_data_path\n",
    "from main.config.create_config import load_dict\n",
    "import tensorflow.keras.backend as K\n",
    "import tensorflow as tf\n",
    "from tensorflow.keras.callbacks import TensorBoard, ModelCheckpoint, LearningRateScheduler, ReduceLROnPlateau\n",
    "from tensorflow.keras import optimizers\n",
    "import pickle\n",
    "import os\n",
    "import gc"
   ]
  },
  {
   "cell_type": "markdown",
   "id": "1ea6daad",
   "metadata": {},
   "source": [
    "# Step 2: 基本設定 & 載入檔案\n",
    "* img_train.txt\n",
    "* gt_train.txt\n",
    "* squeeze.config"
   ]
  },
  {
   "cell_type": "code",
   "execution_count": 2,
   "id": "75bb9e2c",
   "metadata": {},
   "outputs": [],
   "source": [
    "img_file = \"img_train.txt\"\n",
    "gt_file  = \"gt_train.txt\"\n",
    "log_dir_name = './log'\n",
    "EPOCHS = 100\n",
    "STEPS = None\n",
    "OPTIMIZER = \"default\"\n",
    "REDUCELRONPLATEAU = True\n",
    "VERBOSE = True\n",
    "CONFIG = \"squeeze.config\"\n",
    "\n",
    "tb_dir = log_dir_name +\"/tensorboard\"\n",
    "\n",
    "if \"log\" not in os.listdir():\n",
    "    os.makedirs(tb_dir)"
   ]
  },
  {
   "cell_type": "code",
   "execution_count": 3,
   "id": "0f3ae048",
   "metadata": {},
   "outputs": [],
   "source": [
    "# 目前有 img_names 與 gt_names 還沒有 sorted 的情況\n",
    "with open(img_file) as imgs:\n",
    "    img_names = imgs.read().splitlines()\n",
    "imgs.close()"
   ]
  },
  {
   "cell_type": "code",
   "execution_count": 4,
   "id": "ef580c1e",
   "metadata": {},
   "outputs": [],
   "source": [
    "with open(gt_file) as gts:\n",
    "    gt_names = gts.read().splitlines()\n",
    "gts.close()"
   ]
  },
  {
   "cell_type": "code",
   "execution_count": 5,
   "id": "004b75b1",
   "metadata": {},
   "outputs": [],
   "source": [
    "cfg = load_dict(CONFIG)\n",
    "\n",
    "cfg.img_file = img_file\n",
    "cfg.gt_file = gt_file\n",
    "cfg.images = img_names\n",
    "cfg.gts = gt_names\n",
    "#cfg.init_file = init_file\n",
    "cfg.EPOCHS = EPOCHS\n",
    "cfg.OPTIMIZER = OPTIMIZER\n",
    "#cfg.CUDA_VISIBLE_DEVICES = CUDA_VISIBLE_DEVICES\n",
    "#cfg.GPUS = GPUS\n",
    "cfg.REDUCELRONPLATEAU = REDUCELRONPLATEAU"
   ]
  },
  {
   "cell_type": "code",
   "execution_count": 6,
   "id": "0acdde02",
   "metadata": {},
   "outputs": [],
   "source": [
    "train_generator = generator_from_data_path(img_names, gt_names, config=cfg)"
   ]
  },
  {
   "cell_type": "code",
   "execution_count": 7,
   "id": "4cbd7a8c",
   "metadata": {},
   "outputs": [],
   "source": [
    "imgs , labs = next(train_generator)"
   ]
  },
  {
   "cell_type": "code",
   "execution_count": 8,
   "id": "34dcc3b2",
   "metadata": {},
   "outputs": [
    {
     "name": "stdout",
     "output_type": "stream",
     "text": [
      "Number of images: 5984\n",
      "Number of epochs: 100\n",
      "Number of batches: 1496\n",
      "Batch size: 4\n"
     ]
    }
   ],
   "source": [
    "# compute number of batches per epoch\n",
    "nbatches_train, mod = divmod(len(img_names), cfg.BATCH_SIZE)\n",
    "print(f\"Number of images: {len(img_names)}\")\n",
    "print(f\"Number of epochs: {EPOCHS}\")\n",
    "print(f\"Number of batches: {nbatches_train}\")\n",
    "print(f\"Batch size: {cfg.BATCH_SIZE}\")"
   ]
  },
  {
   "cell_type": "code",
   "execution_count": 9,
   "id": "f4423dc3",
   "metadata": {},
   "outputs": [],
   "source": [
    "# instantiate model\n",
    "squeeze = SqueezeDet(cfg)"
   ]
  },
  {
   "cell_type": "code",
   "execution_count": 10,
   "id": "8441d151",
   "metadata": {},
   "outputs": [
    {
     "name": "stdout",
     "output_type": "stream",
     "text": [
      "Learning rate: 0.01\n"
     ]
    }
   ],
   "source": [
    "# 決定 Optimizer，執行完這格，會是 SGD\n",
    "if OPTIMIZER == \"adam\":\n",
    "    opt = optimizers.Adam(lr=0.001,  clipnorm=cfg.MAX_GRAD_NORM)\n",
    "    cfg.LR= 0.001\n",
    "if OPTIMIZER == \"rmsprop\":\n",
    "    opt = optimizers.RMSprop(lr=0.001,  clipnorm=cfg.MAX_GRAD_NORM)\n",
    "    cfg.LR= 0.001\n",
    "\n",
    "if OPTIMIZER == \"adagrad\":\n",
    "    opt = optimizers.Adagrad(lr=1.0,  clipnorm=cfg.MAX_GRAD_NORM)\n",
    "    cfg.LR = 1\n",
    "\n",
    "#use default is nothing is given\n",
    "else:\n",
    "    # create sgd with momentum and gradient clipping\n",
    "    opt = optimizers.SGD(lr=cfg.LEARNING_RATE, decay=0, momentum=cfg.MOMENTUM,\n",
    "                         nesterov=False, clipnorm=cfg.MAX_GRAD_NORM)\n",
    "\n",
    "    cfg.LR = cfg.LEARNING_RATE \n",
    "\n",
    "\n",
    "    print(\"Learning rate: {}\".format(cfg.LEARNING_RATE))"
   ]
  },
  {
   "cell_type": "code",
   "execution_count": 11,
   "id": "371d4408",
   "metadata": {},
   "outputs": [],
   "source": [
    "#save config file to log dir\n",
    "with open(log_dir_name  +'/config.pkl', 'wb') as f:\n",
    "    pickle.dump(cfg, f, pickle.HIGHEST_PROTOCOL)"
   ]
  },
  {
   "cell_type": "code",
   "execution_count": 12,
   "id": "65b9179f",
   "metadata": {},
   "outputs": [
    {
     "name": "stdout",
     "output_type": "stream",
     "text": [
      "Model: \"functional_1\"\n",
      "__________________________________________________________________________________________________\n",
      "Layer (type)                    Output Shape         Param #     Connected to                     \n",
      "==================================================================================================\n",
      "input (InputLayer)              [(None, 384, 1248, 3 0                                            \n",
      "__________________________________________________________________________________________________\n",
      "conv2d (Conv2D)                 (None, 192, 624, 64) 1792        input[0][0]                      \n",
      "__________________________________________________________________________________________________\n",
      "pool1 (MaxPooling2D)            (None, 96, 312, 64)  0           conv2d[0][0]                     \n",
      "__________________________________________________________________________________________________\n",
      "fire2/squeeze1x1 (Conv2D)       (None, 96, 312, 16)  1040        pool1[0][0]                      \n",
      "__________________________________________________________________________________________________\n",
      "fire2/expand1x1 (Conv2D)        (None, 96, 312, 64)  1088        fire2/squeeze1x1[0][0]           \n",
      "__________________________________________________________________________________________________\n",
      "fire2/expand3x3 (Conv2D)        (None, 96, 312, 64)  9280        fire2/squeeze1x1[0][0]           \n",
      "__________________________________________________________________________________________________\n",
      "concatenate (Concatenate)       (None, 96, 312, 128) 0           fire2/expand1x1[0][0]            \n",
      "                                                                 fire2/expand3x3[0][0]            \n",
      "__________________________________________________________________________________________________\n",
      "fire3/squeeze1x1 (Conv2D)       (None, 96, 312, 16)  2064        concatenate[0][0]                \n",
      "__________________________________________________________________________________________________\n",
      "fire3/expand1x1 (Conv2D)        (None, 96, 312, 64)  1088        fire3/squeeze1x1[0][0]           \n",
      "__________________________________________________________________________________________________\n",
      "fire3/expand3x3 (Conv2D)        (None, 96, 312, 64)  9280        fire3/squeeze1x1[0][0]           \n",
      "__________________________________________________________________________________________________\n",
      "concatenate_1 (Concatenate)     (None, 96, 312, 128) 0           fire3/expand1x1[0][0]            \n",
      "                                                                 fire3/expand3x3[0][0]            \n",
      "__________________________________________________________________________________________________\n",
      "pool3 (MaxPooling2D)            (None, 48, 156, 128) 0           concatenate_1[0][0]              \n",
      "__________________________________________________________________________________________________\n",
      "fire4/squeeze1x1 (Conv2D)       (None, 48, 156, 32)  4128        pool3[0][0]                      \n",
      "__________________________________________________________________________________________________\n",
      "fire4/expand1x1 (Conv2D)        (None, 48, 156, 128) 4224        fire4/squeeze1x1[0][0]           \n",
      "__________________________________________________________________________________________________\n",
      "fire4/expand3x3 (Conv2D)        (None, 48, 156, 128) 36992       fire4/squeeze1x1[0][0]           \n",
      "__________________________________________________________________________________________________\n",
      "concatenate_2 (Concatenate)     (None, 48, 156, 256) 0           fire4/expand1x1[0][0]            \n",
      "                                                                 fire4/expand3x3[0][0]            \n",
      "__________________________________________________________________________________________________\n",
      "fire5/squeeze1x1 (Conv2D)       (None, 48, 156, 32)  8224        concatenate_2[0][0]              \n",
      "__________________________________________________________________________________________________\n",
      "fire5/expand1x1 (Conv2D)        (None, 48, 156, 128) 4224        fire5/squeeze1x1[0][0]           \n",
      "__________________________________________________________________________________________________\n",
      "fire5/expand3x3 (Conv2D)        (None, 48, 156, 128) 36992       fire5/squeeze1x1[0][0]           \n",
      "__________________________________________________________________________________________________\n",
      "concatenate_3 (Concatenate)     (None, 48, 156, 256) 0           fire5/expand1x1[0][0]            \n",
      "                                                                 fire5/expand3x3[0][0]            \n",
      "__________________________________________________________________________________________________\n",
      "pool5 (MaxPooling2D)            (None, 24, 78, 256)  0           concatenate_3[0][0]              \n",
      "__________________________________________________________________________________________________\n",
      "fire6/squeeze1x1 (Conv2D)       (None, 24, 78, 48)   12336       pool5[0][0]                      \n",
      "__________________________________________________________________________________________________\n",
      "fire6/expand1x1 (Conv2D)        (None, 24, 78, 192)  9408        fire6/squeeze1x1[0][0]           \n",
      "__________________________________________________________________________________________________\n",
      "fire6/expand3x3 (Conv2D)        (None, 24, 78, 192)  83136       fire6/squeeze1x1[0][0]           \n",
      "__________________________________________________________________________________________________\n",
      "concatenate_4 (Concatenate)     (None, 24, 78, 384)  0           fire6/expand1x1[0][0]            \n",
      "                                                                 fire6/expand3x3[0][0]            \n",
      "__________________________________________________________________________________________________\n",
      "fire7/squeeze1x1 (Conv2D)       (None, 24, 78, 48)   18480       concatenate_4[0][0]              \n",
      "__________________________________________________________________________________________________\n",
      "fire7/expand1x1 (Conv2D)        (None, 24, 78, 192)  9408        fire7/squeeze1x1[0][0]           \n",
      "__________________________________________________________________________________________________\n",
      "fire7/expand3x3 (Conv2D)        (None, 24, 78, 192)  83136       fire7/squeeze1x1[0][0]           \n",
      "__________________________________________________________________________________________________\n",
      "concatenate_5 (Concatenate)     (None, 24, 78, 384)  0           fire7/expand1x1[0][0]            \n",
      "                                                                 fire7/expand3x3[0][0]            \n",
      "__________________________________________________________________________________________________\n",
      "fire8/squeeze1x1 (Conv2D)       (None, 24, 78, 64)   24640       concatenate_5[0][0]              \n",
      "__________________________________________________________________________________________________\n",
      "fire8/expand1x1 (Conv2D)        (None, 24, 78, 256)  16640       fire8/squeeze1x1[0][0]           \n",
      "__________________________________________________________________________________________________\n",
      "fire8/expand3x3 (Conv2D)        (None, 24, 78, 256)  147712      fire8/squeeze1x1[0][0]           \n",
      "__________________________________________________________________________________________________\n",
      "concatenate_6 (Concatenate)     (None, 24, 78, 512)  0           fire8/expand1x1[0][0]            \n",
      "                                                                 fire8/expand3x3[0][0]            \n",
      "__________________________________________________________________________________________________\n",
      "fire9/squeeze1x1 (Conv2D)       (None, 24, 78, 64)   32832       concatenate_6[0][0]              \n",
      "__________________________________________________________________________________________________\n",
      "fire9/expand1x1 (Conv2D)        (None, 24, 78, 256)  16640       fire9/squeeze1x1[0][0]           \n",
      "__________________________________________________________________________________________________\n",
      "fire9/expand3x3 (Conv2D)        (None, 24, 78, 256)  147712      fire9/squeeze1x1[0][0]           \n",
      "__________________________________________________________________________________________________\n",
      "concatenate_7 (Concatenate)     (None, 24, 78, 512)  0           fire9/expand1x1[0][0]            \n",
      "                                                                 fire9/expand3x3[0][0]            \n",
      "__________________________________________________________________________________________________\n",
      "fire10/squeeze1x1 (Conv2D)      (None, 24, 78, 96)   49248       concatenate_7[0][0]              \n",
      "__________________________________________________________________________________________________\n",
      "fire10/expand1x1 (Conv2D)       (None, 24, 78, 384)  37248       fire10/squeeze1x1[0][0]          \n",
      "__________________________________________________________________________________________________\n",
      "fire10/expand3x3 (Conv2D)       (None, 24, 78, 384)  332160      fire10/squeeze1x1[0][0]          \n",
      "__________________________________________________________________________________________________\n",
      "concatenate_8 (Concatenate)     (None, 24, 78, 768)  0           fire10/expand1x1[0][0]           \n",
      "                                                                 fire10/expand3x3[0][0]           \n",
      "__________________________________________________________________________________________________\n",
      "fire11/squeeze1x1 (Conv2D)      (None, 24, 78, 96)   73824       concatenate_8[0][0]              \n",
      "__________________________________________________________________________________________________\n",
      "fire11/expand1x1 (Conv2D)       (None, 24, 78, 384)  37248       fire11/squeeze1x1[0][0]          \n",
      "__________________________________________________________________________________________________\n",
      "fire11/expand3x3 (Conv2D)       (None, 24, 78, 384)  332160      fire11/squeeze1x1[0][0]          \n",
      "__________________________________________________________________________________________________\n",
      "concatenate_9 (Concatenate)     (None, 24, 78, 768)  0           fire11/expand1x1[0][0]           \n",
      "                                                                 fire11/expand3x3[0][0]           \n",
      "__________________________________________________________________________________________________\n",
      "drop11 (Dropout)                (None, 24, 78, 768)  0           concatenate_9[0][0]              \n",
      "__________________________________________________________________________________________________\n",
      "conv12 (Conv2D)                 (None, 24, 78, 72)   497736      drop11[0][0]                     \n",
      "__________________________________________________________________________________________________\n",
      "reshape (Reshape)               (None, 16848, 8)     0           conv12[0][0]                     \n",
      "__________________________________________________________________________________________________\n",
      "lambda (Lambda)                 (None, 16848, 12)    0           reshape[0][0]                    \n",
      "==================================================================================================\n",
      "Total params: 2,082,120\n",
      "Trainable params: 2,082,120\n",
      "Non-trainable params: 0\n",
      "__________________________________________________________________________________________________\n",
      "None\n"
     ]
    }
   ],
   "source": [
    "#callbacks\n",
    "cb = []\n",
    "\n",
    "#add tensorboard callback\n",
    "tbCallBack = TensorBoard(log_dir=tb_dir, histogram_freq=0, write_graph=True, write_images=True)\n",
    "cb.append(tbCallBack)\n",
    "\n",
    "if REDUCELRONPLATEAU:\n",
    "\n",
    "    reduce_lr = ReduceLROnPlateau(monitor='loss', factor=0.1,verbose=1, patience=5, min_lr=0.0)\n",
    "\n",
    "    cb.append(reduce_lr)\n",
    "\n",
    "if VERBOSE:\n",
    "    print(squeeze.model.summary())\n",
    "    \n",
    "    # will (None, 16848, 12) work in this case? I doubt about it."
   ]
  },
  {
   "cell_type": "code",
   "execution_count": 13,
   "id": "6bddbbdf",
   "metadata": {},
   "outputs": [],
   "source": [
    "\n",
    "# compile model\n",
    "squeeze.model.compile(optimizer=opt, loss=[squeeze.loss], metrics=[squeeze.loss_without_regularization, squeeze.bbox_loss, squeeze.class_loss, squeeze.conf_loss])"
   ]
  },
  {
   "cell_type": "code",
   "execution_count": null,
   "id": "1d678fd1",
   "metadata": {},
   "outputs": [
    {
     "name": "stdout",
     "output_type": "stream",
     "text": [
      "Epoch 1/100\n",
      "1496/1496 [==============================] - 1354s 905ms/step - loss: 4.1253 - loss_without_regularization: 4.0256 - bbox_loss: 2.2352 - class_loss: 0.6680 - conf_loss: 1.1225\n",
      "Epoch 2/100\n",
      "1496/1496 [==============================] - 1343s 898ms/step - loss: 3.7942 - loss_without_regularization: 3.7260 - bbox_loss: 2.1698 - class_loss: 0.6201 - conf_loss: 0.9361\n",
      "Epoch 3/100\n",
      "1496/1496 [==============================] - 1403s 938ms/step - loss: 3.7332 - loss_without_regularization: 3.6796 - bbox_loss: 2.1345 - class_loss: 0.6230 - conf_loss: 0.9221\n",
      "Epoch 4/100\n",
      "1027/1496 [===================>..........] - ETA: 7:13 - loss: 3.6442 - loss_without_regularization: 3.6018 - bbox_loss: 2.0877 - class_loss: 0.6193 - conf_loss: 0.8949"
     ]
    }
   ],
   "source": [
    "# To silence this warning, decorate the function with @tf.autograph.experimental.do_not_convert\n",
    "\n",
    "tf.autograph.experimental.do_not_convert(\n",
    "    squeeze.model.fit_generator(train_generator, \n",
    "                                epochs=EPOCHS, \n",
    "                                steps_per_epoch=nbatches_train, \n",
    "                                callbacks=cb\n",
    "    )\n",
    ")"
   ]
  }
 ],
 "metadata": {
  "kernelspec": {
   "display_name": "Python 3 (ipykernel)",
   "language": "python",
   "name": "python3"
  },
  "language_info": {
   "codemirror_mode": {
    "name": "ipython",
    "version": 3
   },
   "file_extension": ".py",
   "mimetype": "text/x-python",
   "name": "python",
   "nbconvert_exporter": "python",
   "pygments_lexer": "ipython3",
   "version": "3.8.13"
  }
 },
 "nbformat": 4,
 "nbformat_minor": 5
}
