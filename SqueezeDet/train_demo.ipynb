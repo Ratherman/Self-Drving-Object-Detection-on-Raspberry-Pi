{
 "cells": [
  {
   "cell_type": "markdown",
   "id": "0de7c7ab",
   "metadata": {},
   "source": [
    "# Step 1: import 必要套件"
   ]
  },
  {
   "cell_type": "code",
   "execution_count": 1,
   "id": "1dc902d8",
   "metadata": {},
   "outputs": [],
   "source": [
    "from main.model.squeezeDet import SqueezeDet\n",
    "from main.model.dataGenerator import generator_from_data_path\n",
    "from main.config.create_config import load_dict\n",
    "import tensorflow.keras.backend as K\n",
    "import tensorflow as tf\n",
    "from tensorflow.keras.callbacks import TensorBoard, ModelCheckpoint, LearningRateScheduler, ReduceLROnPlateau\n",
    "\n",
    "import os\n",
    "import gc"
   ]
  },
  {
   "cell_type": "markdown",
   "id": "1ea6daad",
   "metadata": {},
   "source": [
    "# Step 2: 基本設定 & 載入檔案\n",
    "* img_train.txt\n",
    "* gt_train.txt\n",
    "* squeeze.config"
   ]
  },
  {
   "cell_type": "code",
   "execution_count": 2,
   "id": "75bb9e2c",
   "metadata": {},
   "outputs": [],
   "source": [
    "img_file = \"img_train.txt\"\n",
    "gt_file  = \"gt_train.txt\"\n",
    "EPOCHS = 100\n",
    "STEPS = None\n",
    "OPTIMIZER = \"default\"\n",
    "REDUCELRONPLATEAU = True\n",
    "VERBOSE = False\n",
    "CONFIG = \"squeeze.config\""
   ]
  },
  {
   "cell_type": "code",
   "execution_count": 3,
   "id": "0f3ae048",
   "metadata": {},
   "outputs": [],
   "source": [
    "# 目前有 img_names 與 gt_names 還沒有 sorted 的情況\n",
    "with open(img_file) as imgs:\n",
    "    img_names = imgs.read().splitlines()\n",
    "imgs.close()"
   ]
  },
  {
   "cell_type": "code",
   "execution_count": 4,
   "id": "ef580c1e",
   "metadata": {},
   "outputs": [],
   "source": [
    "with open(gt_file) as gts:\n",
    "    gt_names = gts.read().splitlines()\n",
    "gts.close()"
   ]
  },
  {
   "cell_type": "code",
   "execution_count": 5,
   "id": "004b75b1",
   "metadata": {},
   "outputs": [],
   "source": [
    "cfg = load_dict(CONFIG)\n",
    "\n",
    "cfg.img_file = img_file\n",
    "cfg.gt_file = gt_file\n",
    "cfg.images = img_names\n",
    "cfg.gts = gt_names\n",
    "#cfg.init_file = init_file\n",
    "cfg.EPOCHS = EPOCHS\n",
    "cfg.OPTIMIZER = OPTIMIZER\n",
    "#cfg.CUDA_VISIBLE_DEVICES = CUDA_VISIBLE_DEVICES\n",
    "#cfg.GPUS = GPUS\n",
    "cfg.REDUCELRONPLATEAU = REDUCELRONPLATEAU"
   ]
  },
  {
   "cell_type": "code",
   "execution_count": 6,
   "id": "34dcc3b2",
   "metadata": {},
   "outputs": [
    {
     "name": "stdout",
     "output_type": "stream",
     "text": [
      "Number of images: 5984\n",
      "Number of epochs: 100\n",
      "Number of batches: 1496\n",
      "Batch size: 4\n"
     ]
    }
   ],
   "source": [
    "# compute number of batches per epoch\n",
    "nbatches_train, mod = divmod(len(img_names), cfg.BATCH_SIZE)\n",
    "print(f\"Number of images: {len(img_names)}\")\n",
    "print(f\"Number of epochs: {EPOCHS}\")\n",
    "print(f\"Number of batches: {nbatches_train}\")\n",
    "print(f\"Batch size: {cfg.BATCH_SIZE}\")"
   ]
  },
  {
   "cell_type": "code",
   "execution_count": 7,
   "id": "f4423dc3",
   "metadata": {},
   "outputs": [
    {
     "name": "stderr",
     "output_type": "stream",
     "text": [
      "2022-06-22 07:36:41.180243: I tensorflow/compiler/jit/xla_cpu_device.cc:41] Not creating XLA devices, tf_xla_enable_xla_devices not set\n",
      "2022-06-22 07:36:41.180399: I tensorflow/core/platform/cpu_feature_guard.cc:142] This TensorFlow binary is optimized with oneAPI Deep Neural Network Library (oneDNN) to use the following CPU instructions in performance-critical operations:  SSE4.1 SSE4.2 AVX AVX2 FMA\n",
      "To enable them in other operations, rebuild TensorFlow with the appropriate compiler flags.\n",
      "2022-06-22 07:36:41.180915: I tensorflow/core/common_runtime/process_util.cc:146] Creating new thread pool with default inter op setting: 2. Tune using inter_op_parallelism_threads for best performance.\n"
     ]
    }
   ],
   "source": [
    "# instantiate model\n",
    "squeeze = SqueezeDet(cfg)"
   ]
  }
 ],
 "metadata": {
  "kernelspec": {
   "display_name": "Python 3 (ipykernel)",
   "language": "python",
   "name": "python3"
  },
  "language_info": {
   "codemirror_mode": {
    "name": "ipython",
    "version": 3
   },
   "file_extension": ".py",
   "mimetype": "text/x-python",
   "name": "python",
   "nbconvert_exporter": "python",
   "pygments_lexer": "ipython3",
   "version": "3.8.13"
  }
 },
 "nbformat": 4,
 "nbformat_minor": 5
}
