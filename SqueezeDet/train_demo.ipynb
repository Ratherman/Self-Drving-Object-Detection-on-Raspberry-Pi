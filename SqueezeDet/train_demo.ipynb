{
 "cells": [
  {
   "cell_type": "markdown",
   "id": "0de7c7ab",
   "metadata": {},
   "source": [
    "# Step 1: import 必要套件"
   ]
  },
  {
   "cell_type": "code",
   "execution_count": null,
   "id": "1dc902d8",
   "metadata": {},
   "outputs": [],
   "source": [
    "from main.model.squeezeDet import SqueezeDet\n",
    "from main.model.dataGenerator import generator_from_data_path, visualization_generator_from_data_path\n",
    "from main.model.visualization import visualize\n",
    "from main.config.create_config import load_dict\n",
    "import tensorflow.keras.backend as K\n",
    "import tensorflow as tf\n",
    "from tensorflow.keras.callbacks import TensorBoard, ModelCheckpoint, LearningRateScheduler, ReduceLROnPlateau\n",
    "from tensorflow.keras import optimizers\n",
    "import matplotlib.pyplot as plt\n",
    "import numpy as np\n",
    "import cv2 as cv\n",
    "import pickle\n",
    "import os\n",
    "import gc"
   ]
  },
  {
   "cell_type": "markdown",
   "id": "1ea6daad",
   "metadata": {},
   "source": [
    "# Step 2: 基本設定 & 載入檔案\n",
    "* img_train.txt\n",
    "* gt_train.txt\n",
    "* squeeze.config"
   ]
  },
  {
   "cell_type": "code",
   "execution_count": null,
   "id": "75bb9e2c",
   "metadata": {},
   "outputs": [],
   "source": [
    "img_file = \"img_train.txt\"\n",
    "gt_file  = \"gt_train.txt\"\n",
    "log_dir_name = './log'\n",
    "EPOCHS = 100\n",
    "STEPS = None\n",
    "OPTIMIZER = \"default\"\n",
    "REDUCELRONPLATEAU = True\n",
    "VERBOSE = True\n",
    "CONFIG = \"squeeze.config\"\n",
    "\n",
    "tb_dir = log_dir_name +\"/tensorboard\"\n",
    "\n",
    "if \"log\" not in os.listdir():\n",
    "    os.makedirs(tb_dir)"
   ]
  },
  {
   "cell_type": "code",
   "execution_count": null,
   "id": "0f3ae048",
   "metadata": {},
   "outputs": [],
   "source": [
    "# 目前有 img_names 與 gt_names 還沒有 sorted 的情況\n",
    "with open(img_file) as imgs:\n",
    "    img_names = imgs.read().splitlines()\n",
    "imgs.close()"
   ]
  },
  {
   "cell_type": "code",
   "execution_count": null,
   "id": "ef580c1e",
   "metadata": {},
   "outputs": [],
   "source": [
    "with open(gt_file) as gts:\n",
    "    gt_names = gts.read().splitlines()\n",
    "gts.close()"
   ]
  },
  {
   "cell_type": "code",
   "execution_count": null,
   "id": "004b75b1",
   "metadata": {},
   "outputs": [],
   "source": [
    "cfg = load_dict(CONFIG)\n",
    "\n",
    "cfg.img_file = img_file\n",
    "cfg.gt_file = gt_file\n",
    "cfg.images = img_names\n",
    "cfg.gts = gt_names\n",
    "#cfg.init_file = init_file\n",
    "cfg.EPOCHS = EPOCHS\n",
    "cfg.OPTIMIZER = OPTIMIZER\n",
    "#cfg.CUDA_VISIBLE_DEVICES = CUDA_VISIBLE_DEVICES\n",
    "#cfg.GPUS = GPUS\n",
    "cfg.REDUCELRONPLATEAU = REDUCELRONPLATEAU"
   ]
  },
  {
   "cell_type": "code",
   "execution_count": null,
   "id": "7b262d58",
   "metadata": {},
   "outputs": [],
   "source": [
    "train_generator = generator_from_data_path(img_names, gt_names, config=cfg)\n",
    "vis_train_generator = visualization_generator_from_data_path(img_names, gt_names, config=cfg)"
   ]
  },
  {
   "cell_type": "code",
   "execution_count": null,
   "id": "34dcc3b2",
   "metadata": {},
   "outputs": [],
   "source": [
    "# compute number of batches per epoch\n",
    "nbatches_train, mod = divmod(len(img_names), cfg.BATCH_SIZE)\n",
    "print(f\"Number of images: {len(img_names)}\")\n",
    "print(f\"Number of epochs: {EPOCHS}\")\n",
    "print(f\"Number of batches: {nbatches_train}\")\n",
    "print(f\"Batch size: {cfg.BATCH_SIZE}\")"
   ]
  },
  {
   "cell_type": "code",
   "execution_count": null,
   "id": "f4423dc3",
   "metadata": {},
   "outputs": [],
   "source": [
    "# instantiate model\n",
    "squeeze = SqueezeDet(cfg)"
   ]
  },
  {
   "cell_type": "code",
   "execution_count": null,
   "id": "78d0a8de",
   "metadata": {},
   "outputs": [],
   "source": [
    "# 決定 Optimizer，執行完這格，會是 SGD\n",
    "if OPTIMIZER == \"adam\":\n",
    "    opt = optimizers.Adam(lr=0.001,  clipnorm=cfg.MAX_GRAD_NORM)\n",
    "    cfg.LR= 0.001\n",
    "if OPTIMIZER == \"rmsprop\":\n",
    "    opt = optimizers.RMSprop(lr=0.001,  clipnorm=cfg.MAX_GRAD_NORM)\n",
    "    cfg.LR= 0.001\n",
    "\n",
    "if OPTIMIZER == \"adagrad\":\n",
    "    opt = optimizers.Adagrad(lr=1.0,  clipnorm=cfg.MAX_GRAD_NORM)\n",
    "    cfg.LR = 1\n",
    "\n",
    "#use default is nothing is given\n",
    "else:\n",
    "    # create sgd with momentum and gradient clipping\n",
    "    opt = optimizers.SGD(lr=cfg.LEARNING_RATE, decay=0, momentum=cfg.MOMENTUM,\n",
    "                         nesterov=False, clipnorm=cfg.MAX_GRAD_NORM)\n",
    "\n",
    "    cfg.LR = cfg.LEARNING_RATE \n",
    "\n",
    "\n",
    "    print(\"Learning rate: {}\".format(cfg.LEARNING_RATE))"
   ]
  },
  {
   "cell_type": "code",
   "execution_count": null,
   "id": "ddf741b5",
   "metadata": {},
   "outputs": [],
   "source": [
    "#save config file to log dir\n",
    "with open(log_dir_name  +'/config.pkl', 'wb') as f:\n",
    "    pickle.dump(cfg, f, pickle.HIGHEST_PROTOCOL)"
   ]
  },
  {
   "cell_type": "code",
   "execution_count": null,
   "id": "9a991dd0",
   "metadata": {},
   "outputs": [],
   "source": [
    "#callbacks\n",
    "cb = []\n",
    "\n",
    "#add tensorboard callback\n",
    "tbCallBack = TensorBoard(log_dir=tb_dir, histogram_freq=0, write_graph=True, write_images=True)\n",
    "cb.append(tbCallBack)\n",
    "\n",
    "if REDUCELRONPLATEAU:\n",
    "\n",
    "    reduce_lr = ReduceLROnPlateau(monitor='loss', factor=0.1,verbose=1, patience=5, min_lr=0.0)\n",
    "\n",
    "    cb.append(reduce_lr)\n",
    "\n",
    "if VERBOSE:\n",
    "    print(squeeze.model.summary())\n",
    "    \n",
    "    # will (None, 16848, 12) work in this case? I doubt about it."
   ]
  },
  {
   "cell_type": "code",
   "execution_count": null,
   "id": "f7ab66ad",
   "metadata": {},
   "outputs": [],
   "source": [
    "# compile model\n",
    "squeeze.model.compile(optimizer=opt, loss=[squeeze.loss], metrics=[squeeze.loss_without_regularization, squeeze.bbox_loss, squeeze.class_loss, squeeze.conf_loss])"
   ]
  },
  {
   "cell_type": "code",
   "execution_count": null,
   "id": "546e56e4",
   "metadata": {},
   "outputs": [],
   "source": [
    "# # To silence this warning, decorate the function with @tf.autograph.experimental.do_not_convert\n",
    "\n",
    "# tf.autograph.experimental.do_not_convert(\n",
    "#     squeeze.model.fit_generator(train_generator, \n",
    "#                                 epochs=EPOCHS, \n",
    "#                                 steps_per_epoch=nbatches_train, \n",
    "#                                 callbacks=cb\n",
    "#     )\n",
    "# )"
   ]
  },
  {
   "cell_type": "code",
   "execution_count": null,
   "id": "cd64d3db",
   "metadata": {},
   "outputs": [],
   "source": [
    "squeeze.model.load_weights(\"model.hdf5\")"
   ]
  },
  {
   "cell_type": "code",
   "execution_count": null,
   "id": "e4d327c2",
   "metadata": {},
   "outputs": [],
   "source": [
    "imgs, gts, imgs_only_resized = next(vis_train_generator)"
   ]
  },
  {
   "cell_type": "code",
   "execution_count": null,
   "id": "aa4dc539",
   "metadata": {},
   "outputs": [],
   "source": [
    "OldMax = imgs[0].max()\n",
    "OldMin = imgs[0].min()\n",
    "NewMax = 255\n",
    "NewMin = 0\n",
    "\n",
    "OldRange = (OldMax - OldMin)\n",
    "NewRange = (NewMax - NewMin)  \n",
    "img = ((imgs[0] - OldMin) / (OldMax - OldMin) ) * (NewMax - NewMin) + NewMin\n",
    "img = img.astype(np.uint16) # uint16 is necessary for cvtColor\n",
    "#https://stackoverflow.com/questions/50319617/error-in-opencv-color-conversion-from-bgr-to-grayscale\n",
    "img = cv.cvtColor(img, cv.COLOR_BGR2RGB)\n",
    "\n",
    "# draw\n",
    "plt.figure(figsize=(10,5))\n",
    "plt.imshow(img)\n",
    "plt.show()"
   ]
  },
  {
   "cell_type": "code",
   "execution_count": null,
   "id": "1e086ae4",
   "metadata": {},
   "outputs": [],
   "source": [
    "result = visualize(squeeze.model, vis_train_generator, cfg)"
   ]
  },
  {
   "cell_type": "code",
   "execution_count": null,
   "id": "4c3fb4fa",
   "metadata": {},
   "outputs": [],
   "source": [
    "plt.figure(figsize=(20,15))\n",
    "plt.imshow(result[5].astype(np.uint16))\n",
    "plt.show()\n",
    "\n",
    "# 遇到一個問題XD 預測(紅色)出來都是一樣的XD 0.07493171"
   ]
  },
  {
   "cell_type": "code",
   "execution_count": null,
   "id": "694ae377",
   "metadata": {},
   "outputs": [],
   "source": []
  }
 ],
 "metadata": {
  "kernelspec": {
   "display_name": "Python 3 (ipykernel)",
   "language": "python",
   "name": "python3"
  },
  "language_info": {
   "codemirror_mode": {
    "name": "ipython",
    "version": 3
   },
   "file_extension": ".py",
   "mimetype": "text/x-python",
   "name": "python",
   "nbconvert_exporter": "python",
   "pygments_lexer": "ipython3",
   "version": "3.8.13"
  }
 },
 "nbformat": 4,
 "nbformat_minor": 5
}
