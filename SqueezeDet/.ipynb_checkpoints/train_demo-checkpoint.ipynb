{
 "cells": [
  {
   "cell_type": "markdown",
   "id": "0de7c7ab",
   "metadata": {},
   "source": [
    "# Step 1: import 必要套件"
   ]
  },
  {
   "cell_type": "code",
   "execution_count": 1,
   "id": "1dc902d8",
   "metadata": {},
   "outputs": [],
   "source": [
    "from main.model.squeezeDet import SqueezeDet\n",
    "from main.model.dataGenerator import generator_from_data_path\n",
    "from main.config.create_config import load_dict\n",
    "import tensorflow.keras.backend as K\n",
    "import tensorflow as tf\n",
    "from tensorflow.keras.callbacks import TensorBoard, ModelCheckpoint, LearningRateScheduler, ReduceLROnPlateau\n",
    "\n",
    "import os\n",
    "import gc"
   ]
  },
  {
   "cell_type": "markdown",
   "id": "1ea6daad",
   "metadata": {},
   "source": [
    "# Step 2: 基本設定 & 載入檔案\n",
    "* img_train.txt\n",
    "* gt_train.txt\n",
    "* squeeze.config"
   ]
  },
  {
   "cell_type": "code",
   "execution_count": 16,
   "id": "8b867e02",
   "metadata": {},
   "outputs": [
    {
     "data": {
      "text/plain": [
       "True"
      ]
     },
     "execution_count": 16,
     "metadata": {},
     "output_type": "execute_result"
    }
   ],
   "source": []
  },
  {
   "cell_type": "code",
   "execution_count": 10,
   "id": "75bb9e2c",
   "metadata": {},
   "outputs": [
    {
     "ename": "AttributeError",
     "evalue": "module 'tensorflow' has no attribute 'gfile'",
     "output_type": "error",
     "traceback": [
      "\u001b[1;31m---------------------------------------------------------------------------\u001b[0m",
      "\u001b[1;31mAttributeError\u001b[0m                            Traceback (most recent call last)",
      "Input \u001b[1;32mIn [10]\u001b[0m, in \u001b[0;36m<cell line: 12>\u001b[1;34m()\u001b[0m\n\u001b[0;32m      9\u001b[0m CONFIG \u001b[38;5;241m=\u001b[39m \u001b[38;5;124m\"\u001b[39m\u001b[38;5;124msqueeze.config\u001b[39m\u001b[38;5;124m\"\u001b[39m\n\u001b[0;32m     11\u001b[0m tb_dir \u001b[38;5;241m=\u001b[39m log_dir_name \u001b[38;5;241m+\u001b[39m\u001b[38;5;124m\"\u001b[39m\u001b[38;5;124m/tensorboard\u001b[39m\u001b[38;5;124m\"\u001b[39m\n\u001b[1;32m---> 12\u001b[0m \u001b[38;5;28;01mif\u001b[39;00m \u001b[43mtf\u001b[49m\u001b[38;5;241;43m.\u001b[39;49m\u001b[43mgfile\u001b[49m\u001b[38;5;241m.\u001b[39mExists(tb_dir):\n\u001b[0;32m     13\u001b[0m     tf\u001b[38;5;241m.\u001b[39mgfile\u001b[38;5;241m.\u001b[39mDeleteRecursively(tb_dir)\n\u001b[0;32m     15\u001b[0m tf\u001b[38;5;241m.\u001b[39mgfile\u001b[38;5;241m.\u001b[39mMakeDirs(tb_dir)\n",
      "\u001b[1;31mAttributeError\u001b[0m: module 'tensorflow' has no attribute 'gfile'"
     ]
    }
   ],
   "source": [
    "img_file = \"img_train.txt\"\n",
    "gt_file  = \"gt_train.txt\"\n",
    "log_dir_name = './log'\n",
    "EPOCHS = 100\n",
    "STEPS = None\n",
    "OPTIMIZER = \"default\"\n",
    "REDUCELRONPLATEAU = True\n",
    "VERBOSE = False\n",
    "CONFIG = \"squeeze.config\"\n",
    "\n",
    "tb_dir = log_dir_name +\"/tensorboard\"\n",
    "\n",
    "if \"log\" not in os.listdir():\n",
    "    os.makedirs(tb_dir)"
   ]
  },
  {
   "cell_type": "code",
   "execution_count": 3,
   "id": "0f3ae048",
   "metadata": {},
   "outputs": [],
   "source": [
    "# 目前有 img_names 與 gt_names 還沒有 sorted 的情況\n",
    "with open(img_file) as imgs:\n",
    "    img_names = imgs.read().splitlines()\n",
    "imgs.close()"
   ]
  },
  {
   "cell_type": "code",
   "execution_count": 4,
   "id": "ef580c1e",
   "metadata": {},
   "outputs": [],
   "source": [
    "with open(gt_file) as gts:\n",
    "    gt_names = gts.read().splitlines()\n",
    "gts.close()"
   ]
  },
  {
   "cell_type": "code",
   "execution_count": 5,
   "id": "004b75b1",
   "metadata": {},
   "outputs": [],
   "source": [
    "cfg = load_dict(CONFIG)\n",
    "\n",
    "cfg.img_file = img_file\n",
    "cfg.gt_file = gt_file\n",
    "cfg.images = img_names\n",
    "cfg.gts = gt_names\n",
    "#cfg.init_file = init_file\n",
    "cfg.EPOCHS = EPOCHS\n",
    "cfg.OPTIMIZER = OPTIMIZER\n",
    "#cfg.CUDA_VISIBLE_DEVICES = CUDA_VISIBLE_DEVICES\n",
    "#cfg.GPUS = GPUS\n",
    "cfg.REDUCELRONPLATEAU = REDUCELRONPLATEAU"
   ]
  },
  {
   "cell_type": "code",
   "execution_count": 6,
   "id": "34dcc3b2",
   "metadata": {},
   "outputs": [
    {
     "name": "stdout",
     "output_type": "stream",
     "text": [
      "Number of images: 5984\n",
      "Number of epochs: 100\n",
      "Number of batches: 1496\n",
      "Batch size: 4\n"
     ]
    }
   ],
   "source": [
    "# compute number of batches per epoch\n",
    "nbatches_train, mod = divmod(len(img_names), cfg.BATCH_SIZE)\n",
    "print(f\"Number of images: {len(img_names)}\")\n",
    "print(f\"Number of epochs: {EPOCHS}\")\n",
    "print(f\"Number of batches: {nbatches_train}\")\n",
    "print(f\"Batch size: {cfg.BATCH_SIZE}\")"
   ]
  },
  {
   "cell_type": "code",
   "execution_count": 7,
   "id": "f4423dc3",
   "metadata": {},
   "outputs": [],
   "source": [
    "# instantiate model\n",
    "squeeze = SqueezeDet(cfg)"
   ]
  },
  {
   "cell_type": "code",
   "execution_count": null,
   "id": "6413cca5",
   "metadata": {},
   "outputs": [],
   "source": []
  }
 ],
 "metadata": {
  "kernelspec": {
   "display_name": "Python 3 (ipykernel)",
   "language": "python",
   "name": "python3"
  },
  "language_info": {
   "codemirror_mode": {
    "name": "ipython",
    "version": 3
   },
   "file_extension": ".py",
   "mimetype": "text/x-python",
   "name": "python",
   "nbconvert_exporter": "python",
   "pygments_lexer": "ipython3",
   "version": "3.8.13"
  }
 },
 "nbformat": 4,
 "nbformat_minor": 5
}
